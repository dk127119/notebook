{
  "nbformat": 4,
  "nbformat_minor": 0,
  "metadata": {
    "colab": {
      "provenance": [],
      "authorship_tag": "ABX9TyNWgmBOKSxBFpdvHJTD2tmE",
      "include_colab_link": true
    },
    "kernelspec": {
      "name": "python3",
      "display_name": "Python 3"
    },
    "language_info": {
      "name": "python"
    }
  },
  "cells": [
    {
      "cell_type": "markdown",
      "metadata": {
        "id": "view-in-github",
        "colab_type": "text"
      },
      "source": [
        "<a href=\"https://colab.research.google.com/github/dk127119/notebook/blob/main/data_structure.ipynb\" target=\"_parent\"><img src=\"https://colab.research.google.com/assets/colab-badge.svg\" alt=\"Open In Colab\"/></a>"
      ]
    },
    {
      "cell_type": "markdown",
      "source": [
        " Why might you choose a deque from the collections module to implement a queue instead of using a regular Python list?\n"
      ],
      "metadata": {
        "id": "94h4gk20lTXN"
      }
    },
    {
      "cell_type": "markdown",
      "source": [
        "ANS:  Because it has optimized methods for adding and removing components from both ends of the queue, a deque from the collections module is the better choice when building a queue. Compared to conventional Python lists, this offers effective FIFO (First-In, First-Out) operations, which are essential for queue functioning."
      ],
      "metadata": {
        "id": "RaZZ0Xl3lYaX"
      }
    },
    {
      "cell_type": "markdown",
      "source": [
        "Can you explain a real-world scenario where using a stack would be a more practical choice than a list for data storage and retrieval?"
      ],
      "metadata": {
        "id": "8D_mONXkmCw6"
      }
    },
    {
      "cell_type": "markdown",
      "source": [
        "ANS: Using a stack makes it more realistic to provide a \"Undo\" functionality in a text editor. Every edit operation can be stacked, making it simple to undo by simply popping the most recent action. Compared to managing a list, this LIFO (Last-In, First-Out) behavior simplifies the undo functionality."
      ],
      "metadata": {
        "id": "sK9j0Z4JmFlN"
      }
    },
    {
      "cell_type": "markdown",
      "source": [
        "What is the primary advantage of using sets in Python, and in what type of problem-solving scenarios are they most useful?"
      ],
      "metadata": {
        "id": "8MptbwpgmJ4R"
      }
    },
    {
      "cell_type": "markdown",
      "source": [
        "ANS: The capacity of sets in Python to hold distinct elements and carry out effective set operations like union, intersection, and difference is their main benefit. They are especially helpful in situations where you need to locate unique elements, remove duplicates, and test membership. Examples of these scenarios include data deduplication, filtering, and set-based algorithms like graph algorithms and combinatorial issues.\n"
      ],
      "metadata": {
        "id": "E5ev_WYSmvDr"
      }
    },
    {
      "cell_type": "markdown",
      "source": [
        "When might you choose to use an array instead of a list for storing numerical data in Python? What benefits do arrays offer in this context?"
      ],
      "metadata": {
        "id": "Mkx7o7DGmz5e"
      }
    },
    {
      "cell_type": "markdown",
      "source": [
        "ANS: When working with big datasets or needing more memory efficiency, use an array rather than a list to store numerical data in Python. Because arrays have a homogenous data type, they have advantages including less memory overhead and faster access to elements."
      ],
      "metadata": {
        "id": "pdUHIxM4nSTq"
      }
    },
    {
      "cell_type": "markdown",
      "source": [
        " In Python, what's the primary difference between dictionaries and lists, and how does this difference impact their use cases in programming?"
      ],
      "metadata": {
        "id": "okjv_dlVn6mg"
      }
    },
    {
      "cell_type": "markdown",
      "source": [
        "ANS:  Python dictionaries are used to store key-value pairs for quick and easy key retrieval. On the other hand, lists keep collections of items in order. Dictionaries are useful for quick lookups, particularly where the association of the data is important. Lists work best when maintaining order and having positional access to elements are the main priorities."
      ],
      "metadata": {
        "id": "h4TY3yjIoAah"
      }
    },
    {
      "cell_type": "code",
      "source": [],
      "metadata": {
        "id": "ebJHyosOnj4P"
      },
      "execution_count": null,
      "outputs": []
    }
  ]
}