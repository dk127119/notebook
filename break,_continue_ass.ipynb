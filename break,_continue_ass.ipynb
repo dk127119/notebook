{
  "nbformat": 4,
  "nbformat_minor": 0,
  "metadata": {
    "colab": {
      "provenance": [],
      "authorship_tag": "ABX9TyNsdtG8WyxGiyUvqk2s2B1w",
      "include_colab_link": true
    },
    "kernelspec": {
      "name": "python3",
      "display_name": "Python 3"
    },
    "language_info": {
      "name": "python"
    }
  },
  "cells": [
    {
      "cell_type": "markdown",
      "metadata": {
        "id": "view-in-github",
        "colab_type": "text"
      },
      "source": [
        "<a href=\"https://colab.research.google.com/github/dk127119/notebook/blob/main/break%2C_continue_ass.ipynb\" target=\"_parent\"><img src=\"https://colab.research.google.com/assets/colab-badge.svg\" alt=\"Open In Colab\"/></a>"
      ]
    },
    {
      "cell_type": "markdown",
      "source": [
        "Write a program to print numbers from  to 0 to 10, but stop if the number is 5."
      ],
      "metadata": {
        "id": "MxffVL6tn9S4"
      }
    },
    {
      "cell_type": "code",
      "execution_count": 1,
      "metadata": {
        "colab": {
          "base_uri": "https://localhost:8080/"
        },
        "id": "Zik-CNz4n8Pd",
        "outputId": "85d5cff0-141c-4295-8320-985b04d26187"
      },
      "outputs": [
        {
          "output_type": "stream",
          "name": "stdout",
          "text": [
            "1\n",
            "2\n",
            "3\n",
            "4\n"
          ]
        }
      ],
      "source": [
        "for num in range(1, 11):\n",
        "  if num==5:\n",
        "    break\n",
        "  print(num)"
      ]
    },
    {
      "cell_type": "markdown",
      "source": [
        "Write a program to iterate through a list and stop when encountering a specific element."
      ],
      "metadata": {
        "id": "kgUySpH2oR9W"
      }
    },
    {
      "cell_type": "code",
      "source": [],
      "metadata": {
        "id": "e_WHa9a0pRZV"
      },
      "execution_count": null,
      "outputs": []
    },
    {
      "cell_type": "code",
      "source": [
        "my_list = [1,2,3,4,5,6,7,8,9,10]\n",
        "stop_element = 7\n",
        "for element in my_list:\n",
        "  if element == stop_element:\n",
        "    break\n",
        "  print(element)"
      ],
      "metadata": {
        "colab": {
          "base_uri": "https://localhost:8080/"
        },
        "id": "jefM-w-KoI6e",
        "outputId": "a50a4189-f6e3-4bee-9a36-21c55eb7718e"
      },
      "execution_count": 2,
      "outputs": [
        {
          "output_type": "stream",
          "name": "stdout",
          "text": [
            "1\n",
            "2\n",
            "3\n",
            "4\n",
            "5\n",
            "6\n"
          ]
        }
      ]
    },
    {
      "cell_type": "markdown",
      "source": [
        "Write a program to skip printing even numbers from  1 to 10.\n",
        "\n",
        "---\n",
        "\n"
      ],
      "metadata": {
        "id": "yj6MXXgoo2Vt"
      }
    },
    {
      "cell_type": "code",
      "source": [
        "for num in range(1, 11):\n",
        "  if num %2 == 0:\n",
        "    continue\n",
        "  print(num)"
      ],
      "metadata": {
        "colab": {
          "base_uri": "https://localhost:8080/"
        },
        "id": "umBle9Zloz_R",
        "outputId": "e1ea9ece-0409-4d0d-fb62-bfd108ee720d"
      },
      "execution_count": 3,
      "outputs": [
        {
          "output_type": "stream",
          "name": "stdout",
          "text": [
            "1\n",
            "3\n",
            "5\n",
            "7\n",
            "9\n"
          ]
        }
      ]
    },
    {
      "cell_type": "markdown",
      "source": [
        "Write a program to print numbers from 0 to 9 using range."
      ],
      "metadata": {
        "id": "UirCan48pu4s"
      }
    },
    {
      "cell_type": "code",
      "source": [
        "for num in range (10):\n",
        "  print(num)"
      ],
      "metadata": {
        "colab": {
          "base_uri": "https://localhost:8080/"
        },
        "id": "E7ljkmObphQP",
        "outputId": "0082a6b9-d18a-457e-bb8b-53f9b64e583e"
      },
      "execution_count": 4,
      "outputs": [
        {
          "output_type": "stream",
          "name": "stdout",
          "text": [
            "0\n",
            "1\n",
            "2\n",
            "3\n",
            "4\n",
            "5\n",
            "6\n",
            "7\n",
            "8\n",
            "9\n"
          ]
        }
      ]
    },
    {
      "cell_type": "markdown",
      "source": [
        "Write a program to print multiplication tables from  to 5, but stop after the first table is printed for each number."
      ],
      "metadata": {
        "id": "1Xkppk5RqHUt"
      }
    },
    {
      "cell_type": "code",
      "source": [
        "for i in range(1, 6):\n",
        "  print(\"multiplication table for {i}:\")\n",
        "  for j in range (1, 11):\n",
        "    print(f\"{i} * {j} = {i*j}\")\n",
        "  print()"
      ],
      "metadata": {
        "colab": {
          "base_uri": "https://localhost:8080/"
        },
        "id": "CHeWvGAEp7p_",
        "outputId": "0949ee59-6c0d-476f-9fe2-6f097f35388b"
      },
      "execution_count": 6,
      "outputs": [
        {
          "output_type": "stream",
          "name": "stdout",
          "text": [
            "multiplication table for {i}:\n",
            "1 * 1 = 1\n",
            "1 * 2 = 2\n",
            "1 * 3 = 3\n",
            "1 * 4 = 4\n",
            "1 * 5 = 5\n",
            "1 * 6 = 6\n",
            "1 * 7 = 7\n",
            "1 * 8 = 8\n",
            "1 * 9 = 9\n",
            "1 * 10 = 10\n",
            "\n",
            "multiplication table for {i}:\n",
            "2 * 1 = 2\n",
            "2 * 2 = 4\n",
            "2 * 3 = 6\n",
            "2 * 4 = 8\n",
            "2 * 5 = 10\n",
            "2 * 6 = 12\n",
            "2 * 7 = 14\n",
            "2 * 8 = 16\n",
            "2 * 9 = 18\n",
            "2 * 10 = 20\n",
            "\n",
            "multiplication table for {i}:\n",
            "3 * 1 = 3\n",
            "3 * 2 = 6\n",
            "3 * 3 = 9\n",
            "3 * 4 = 12\n",
            "3 * 5 = 15\n",
            "3 * 6 = 18\n",
            "3 * 7 = 21\n",
            "3 * 8 = 24\n",
            "3 * 9 = 27\n",
            "3 * 10 = 30\n",
            "\n",
            "multiplication table for {i}:\n",
            "4 * 1 = 4\n",
            "4 * 2 = 8\n",
            "4 * 3 = 12\n",
            "4 * 4 = 16\n",
            "4 * 5 = 20\n",
            "4 * 6 = 24\n",
            "4 * 7 = 28\n",
            "4 * 8 = 32\n",
            "4 * 9 = 36\n",
            "4 * 10 = 40\n",
            "\n",
            "multiplication table for {i}:\n",
            "5 * 1 = 5\n",
            "5 * 2 = 10\n",
            "5 * 3 = 15\n",
            "5 * 4 = 20\n",
            "5 * 5 = 25\n",
            "5 * 6 = 30\n",
            "5 * 7 = 35\n",
            "5 * 8 = 40\n",
            "5 * 9 = 45\n",
            "5 * 10 = 50\n",
            "\n"
          ]
        }
      ]
    },
    {
      "cell_type": "markdown",
      "source": [
        "Write a program to skip printing even numbers using a while loop."
      ],
      "metadata": {
        "id": "WflXQ67urjgO"
      }
    },
    {
      "cell_type": "code",
      "source": [
        "num = 1\n",
        "while num<=10:\n",
        "  if num % 2==0:\n",
        "    num+=1\n",
        "    continue\n",
        "  print(num)\n",
        "  num +=1"
      ],
      "metadata": {
        "colab": {
          "base_uri": "https://localhost:8080/"
        },
        "id": "U4NMHCBXqp8C",
        "outputId": "e57c71a7-7e3c-476f-b490-4313ea2abe54"
      },
      "execution_count": 7,
      "outputs": [
        {
          "output_type": "stream",
          "name": "stdout",
          "text": [
            "1\n",
            "3\n",
            "5\n",
            "7\n",
            "9\n"
          ]
        }
      ]
    },
    {
      "cell_type": "code",
      "source": [],
      "metadata": {
        "id": "nkN0GoaOr-Bj"
      },
      "execution_count": null,
      "outputs": []
    }
  ]
}