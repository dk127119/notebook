{
  "nbformat": 4,
  "nbformat_minor": 0,
  "metadata": {
    "colab": {
      "provenance": [],
      "authorship_tag": "ABX9TyPIx9bV2P/rY0ULBT3xhcR3",
      "include_colab_link": true
    },
    "kernelspec": {
      "name": "python3",
      "display_name": "Python 3"
    },
    "language_info": {
      "name": "python"
    }
  },
  "cells": [
    {
      "cell_type": "markdown",
      "metadata": {
        "id": "view-in-github",
        "colab_type": "text"
      },
      "source": [
        "<a href=\"https://colab.research.google.com/github/dk127119/notebook/blob/main/operator_ass.ipynb\" target=\"_parent\"><img src=\"https://colab.research.google.com/assets/colab-badge.svg\" alt=\"Open In Colab\"/></a>"
      ]
    },
    {
      "cell_type": "code",
      "execution_count": 1,
      "metadata": {
        "id": "SQxyIC71eDxq"
      },
      "outputs": [],
      "source": [
        "#question 1, Calc$late the s$m, difference, prod$ct, and q$otient of two n$mbers."
      ]
    },
    {
      "cell_type": "code",
      "source": [
        "num1 = 23\n",
        "num2 = 25\n",
        "\n",
        "#calculate te sum\n",
        "sum_result = num1+num2\n",
        "#calculate te difference\n",
        "difference_result = num1-num2\n",
        "#calculate te product\n",
        "product_result = num1*num2\n",
        "#calculate te quotient\n",
        "quotient_result = num1 / num2\n",
        "print(\"sum :\", sum_result)\n",
        "print(\"difference :\", difference_result)\n",
        "print(\"product :\", product_result)\n",
        "print(\"quotient :\", quotient_result)"
      ],
      "metadata": {
        "colab": {
          "base_uri": "https://localhost:8080/"
        },
        "id": "QEZugtG6eheO",
        "outputId": "c303187e-4e7d-4ec5-f87e-b377b4e731b1"
      },
      "execution_count": 2,
      "outputs": [
        {
          "output_type": "stream",
          "name": "stdout",
          "text": [
            "sum : 48\n",
            "difference : -2\n",
            "product : 575\n",
            "quotient : 0.92\n"
          ]
        }
      ]
    },
    {
      "cell_type": "code",
      "source": [
        "#question 2, Perform @ario$s assignment operations on a @ariable."
      ],
      "metadata": {
        "id": "lvRSDiqYelXZ"
      },
      "execution_count": 3,
      "outputs": []
    },
    {
      "cell_type": "code",
      "source": [
        "x = 3\n",
        "\n",
        "#add assignment\n",
        "x += 6\n",
        "print(\"addition assignment :\", x)\n",
        "#substract assignment\n",
        "x -= 2\n",
        "print(\"substraction assignment :\", x)\n",
        "#mul assignment\n",
        "x *= 5\n",
        "print(\"multiplication assignment :\", x)\n",
        "#div assignment\n",
        "x /= 4\n",
        "print(\"division assignment :\", x)\n",
        "#floordivision assignment\n",
        "x //= 7\n",
        "print(\"floordivision assignment :\", x)\n",
        "#modulus assignment\n",
        "x %= 2\n",
        "print(\"modulus assignment :\", x)"
      ],
      "metadata": {
        "colab": {
          "base_uri": "https://localhost:8080/"
        },
        "id": "yJLFqphueqP7",
        "outputId": "64e6b79a-4ddd-4b56-ce83-3cd85cdcd5fd"
      },
      "execution_count": 4,
      "outputs": [
        {
          "output_type": "stream",
          "name": "stdout",
          "text": [
            "addition assignment : 9\n",
            "substraction assignment : 7\n",
            "multiplication assignment : 35\n",
            "division assignment : 8.75\n",
            "floordivision assignment : 1.0\n",
            "modulus assignment : 1.0\n"
          ]
        }
      ]
    },
    {
      "cell_type": "code",
      "source": [
        "#question 3, Compare two n$mbers and print the res$lts."
      ],
      "metadata": {
        "id": "w8L6EuwxewiD"
      },
      "execution_count": 5,
      "outputs": []
    },
    {
      "cell_type": "code",
      "source": [
        "num1 = 3\n",
        "num2 = 7\n",
        "\n",
        "if num1>num2:\n",
        "    print(\"num1 is greater than num2\")\n",
        "elif num1<num2:\n",
        "    print(\"num1 is less than num2\")\n",
        "else:\n",
        "    print(\"num1 is equal to num2\")"
      ],
      "metadata": {
        "colab": {
          "base_uri": "https://localhost:8080/"
        },
        "id": "lfRMLBi7e2G6",
        "outputId": "bc5a2ed4-cbae-4b84-9d61-57365991ecc2"
      },
      "execution_count": 6,
      "outputs": [
        {
          "output_type": "stream",
          "name": "stdout",
          "text": [
            "num1 is less than num2\n"
          ]
        }
      ]
    },
    {
      "cell_type": "code",
      "source": [
        "#question 3, Compare two n$mbers and print the res$lts."
      ],
      "metadata": {
        "id": "dNsTeutxe5kq"
      },
      "execution_count": 7,
      "outputs": []
    },
    {
      "cell_type": "code",
      "source": [
        "a = 5\n",
        "b = 10\n",
        "c = 15\n",
        "\n",
        "if a<b and b<c:\n",
        "    print(\"both conditions are true\")\n",
        "if a<b or a>c:\n",
        "    print(\"atleast one condition is true\")\n",
        "if not(a>b):\n",
        "    print(\"a is not greater than b\")"
      ],
      "metadata": {
        "colab": {
          "base_uri": "https://localhost:8080/"
        },
        "id": "CuCu64NIe6Q5",
        "outputId": "930e53d1-e459-434f-dc92-88aee9afb6eb"
      },
      "execution_count": 8,
      "outputs": [
        {
          "output_type": "stream",
          "name": "stdout",
          "text": [
            "both conditions are true\n",
            "atleast one condition is true\n",
            "a is not greater than b\n"
          ]
        }
      ]
    },
    {
      "cell_type": "code",
      "source": [
        "#question 5, Check the identity of @ariables."
      ],
      "metadata": {
        "id": "ERUfUDSve-dl"
      },
      "execution_count": 9,
      "outputs": []
    },
    {
      "cell_type": "code",
      "source": [
        "a = [1,2,3,4]\n",
        "b = [1,2,3,4]\n",
        "if a==b:\n",
        "    print(\"a and b refer the same value\")\n",
        "else:\n",
        "    print(\"a and b value is not same\")"
      ],
      "metadata": {
        "colab": {
          "base_uri": "https://localhost:8080/"
        },
        "id": "Rx1QrTKAfCnt",
        "outputId": "616038be-978b-4b19-baa0-4c5e81464416"
      },
      "execution_count": 10,
      "outputs": [
        {
          "output_type": "stream",
          "name": "stdout",
          "text": [
            "a and b refer the same value\n"
          ]
        }
      ]
    },
    {
      "cell_type": "code",
      "source": [
        "#question 6,Perform bitwise operations on any two integers."
      ],
      "metadata": {
        "id": "Sl54vXvffGFF"
      },
      "execution_count": 11,
      "outputs": []
    },
    {
      "cell_type": "code",
      "source": [
        "num1 = 4\n",
        "num2 = 7\n",
        "\n",
        "result_and = num1 & num2\n",
        "print(\"bitwise AND :\", result_and)\n",
        "\n",
        "result_or = num1 | num2\n",
        "print(\"bitwise OR :\", result_or)\n",
        "\n",
        "result_xor = num1 ^ num2\n",
        "print(\"bitwise XOR :\", result_xor)\n",
        "\n",
        "result_not = num1 << num2\n",
        "print(\"bitwise NOT :\", result_not)"
      ],
      "metadata": {
        "colab": {
          "base_uri": "https://localhost:8080/"
        },
        "id": "ULK9UlzOfI6D",
        "outputId": "ca049678-5044-4ba5-ea01-1e9296256d6b"
      },
      "execution_count": 12,
      "outputs": [
        {
          "output_type": "stream",
          "name": "stdout",
          "text": [
            "bitwise AND : 4\n",
            "bitwise OR : 7\n",
            "bitwise XOR : 3\n",
            "bitwise NOT : 512\n"
          ]
        }
      ]
    },
    {
      "cell_type": "markdown",
      "source": [],
      "metadata": {
        "id": "aohRjslRfqzX"
      }
    },
    {
      "cell_type": "code",
      "source": [
        "#question 7, Use $nary operators to change the sign of a n$mber"
      ],
      "metadata": {
        "id": "-XU20GF1fK4g"
      },
      "execution_count": 13,
      "outputs": []
    },
    {
      "cell_type": "code",
      "source": [
        "number = 5\n",
        "#change te sign of number\n",
        "number = -number\n",
        "print(\"changed sign of the number :\", number)"
      ],
      "metadata": {
        "colab": {
          "base_uri": "https://localhost:8080/"
        },
        "id": "BlLYclNHfWn4",
        "outputId": "48c4720b-fc99-4f4f-9278-ba225b2a1393"
      },
      "execution_count": 14,
      "outputs": [
        {
          "output_type": "stream",
          "name": "stdout",
          "text": [
            "changed sign of the number : -5\n"
          ]
        }
      ]
    },
    {
      "cell_type": "markdown",
      "source": [
        "question 8,Use the ternary operator to assign Values based on conditions."
      ],
      "metadata": {
        "id": "w3IHHhRmfbVO"
      }
    },
    {
      "cell_type": "code",
      "source": [
        "a = 8\n",
        "if a>60:\n",
        "    print(\"you have pass with 1st division\")\n",
        "elif 60<a>33:\n",
        "    print(\"you ave pass in entire course\")#if condition is true\n",
        "else:\n",
        "    print(\"you are failed\")"
      ],
      "metadata": {
        "colab": {
          "base_uri": "https://localhost:8080/"
        },
        "id": "EkP6ehjIfYt4",
        "outputId": "4b999fe1-27ce-4cdc-bfee-14e5f872e58a"
      },
      "execution_count": 15,
      "outputs": [
        {
          "output_type": "stream",
          "name": "stdout",
          "text": [
            "you are failed\n"
          ]
        }
      ]
    },
    {
      "cell_type": "code",
      "source": [],
      "metadata": {
        "id": "biEUIWvQfguY"
      },
      "execution_count": null,
      "outputs": []
    }
  ]
}