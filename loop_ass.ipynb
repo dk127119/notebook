{
  "nbformat": 4,
  "nbformat_minor": 0,
  "metadata": {
    "colab": {
      "provenance": [],
      "authorship_tag": "ABX9TyO0/UfcfA67AriCPgAhQWB/",
      "include_colab_link": true
    },
    "kernelspec": {
      "name": "python3",
      "display_name": "Python 3"
    },
    "language_info": {
      "name": "python"
    }
  },
  "cells": [
    {
      "cell_type": "markdown",
      "metadata": {
        "id": "view-in-github",
        "colab_type": "text"
      },
      "source": [
        "<a href=\"https://colab.research.google.com/github/dk127119/notebook/blob/main/loop_ass.ipynb\" target=\"_parent\"><img src=\"https://colab.research.google.com/assets/colab-badge.svg\" alt=\"Open In Colab\"/></a>"
      ]
    },
    {
      "cell_type": "markdown",
      "source": [
        "Print nmber from 1 to 5 ing a while loop."
      ],
      "metadata": {
        "id": "6XiqIvNFjes-"
      }
    },
    {
      "cell_type": "code",
      "execution_count": null,
      "metadata": {
        "colab": {
          "base_uri": "https://localhost:8080/"
        },
        "id": "LseuBLVGigf5",
        "outputId": "283651fb-3f1b-4e7c-9515-66f0ccfc8220"
      },
      "outputs": [
        {
          "output_type": "stream",
          "name": "stdout",
          "text": [
            "1\n",
            "2\n",
            "3\n",
            "4\n",
            "5\n"
          ]
        }
      ],
      "source": [
        "num = 1\n",
        "while num<=5:\n",
        "    print(num)\n",
        "    num +=1"
      ]
    },
    {
      "cell_type": "markdown",
      "source": [
        "Calclate the m of nmber from 1 to 10 ing a while loop."
      ],
      "metadata": {
        "id": "U7mUxlOojn6s"
      }
    },
    {
      "cell_type": "code",
      "source": [
        "num = 1\n",
        "sum = 0\n",
        "while num<=10:\n",
        "    sum += num\n",
        "    num += 1\n",
        "print(\"The sum of numbers from 1 to 10 is :\", sum)"
      ],
      "metadata": {
        "colab": {
          "base_uri": "https://localhost:8080/"
        },
        "id": "bUtZVOuujiSx",
        "outputId": "c2dc67f3-a85e-4286-bcc1-68b5eb44aa3a"
      },
      "execution_count": null,
      "outputs": [
        {
          "output_type": "stream",
          "name": "stdout",
          "text": [
            "The sum of numbers from 1 to 10 is : 55\n"
          ]
        }
      ]
    },
    {
      "cell_type": "markdown",
      "source": [
        " Calclate the factorial of a nmber ing a for loop."
      ],
      "metadata": {
        "id": "ucY8pR24j6AW"
      }
    },
    {
      "cell_type": "code",
      "source": [
        "number = 5\n",
        "factorial = 1\n",
        "for i in range(1, number + 1):\n",
        "    factorial *=i\n",
        "print(\"the factorial of\", number, \"is:\", factorial)"
      ],
      "metadata": {
        "colab": {
          "base_uri": "https://localhost:8080/"
        },
        "id": "71kmqmHHkAU7",
        "outputId": "403f3398-af28-4042-9984-44dd2df7c3a5"
      },
      "execution_count": null,
      "outputs": [
        {
          "output_type": "stream",
          "name": "stdout",
          "text": [
            "the factorial of 5 is: 120\n"
          ]
        }
      ]
    },
    {
      "cell_type": "markdown",
      "source": [
        "Cont the nmber of vowel in a tring ing a for loop."
      ],
      "metadata": {
        "id": "pamoOwbckKQW"
      }
    },
    {
      "cell_type": "code",
      "source": [
        "string = \"hello world\"\n",
        "vowel_count =0\n",
        "vowels = \"aeiouAEIOU\"\n",
        "for char in string:\n",
        "    if char in vowels:\n",
        "        vowel_count +=1\n",
        "print(\"the number of vowels in the string is :\", vowel_count)"
      ],
      "metadata": {
        "colab": {
          "base_uri": "https://localhost:8080/"
        },
        "id": "_hKKdAVtkEy4",
        "outputId": "c065a82d-8c3e-43a7-c57d-b3c5939e303c"
      },
      "execution_count": null,
      "outputs": [
        {
          "output_type": "stream",
          "name": "stdout",
          "text": [
            "the number of vowels in the string is : 3\n"
          ]
        }
      ]
    },
    {
      "cell_type": "markdown",
      "source": [
        "Print a pattern in nested loop."
      ],
      "metadata": {
        "id": "ICnua2APkXGV"
      }
    },
    {
      "cell_type": "code",
      "source": [
        "rows = 5\n",
        "for  i in range(1, rows + 1):\n",
        "    for j in range (1, i+1):\n",
        "        print(\"*\", end=\" \")\n",
        "    print()"
      ],
      "metadata": {
        "colab": {
          "base_uri": "https://localhost:8080/"
        },
        "id": "6BHm0p-VkZ6U",
        "outputId": "228ff1e7-641e-4281-9378-517236e24279"
      },
      "execution_count": null,
      "outputs": [
        {
          "output_type": "stream",
          "name": "stdout",
          "text": [
            "* \n",
            "* * \n",
            "* * * \n",
            "* * * * \n",
            "* * * * * \n"
          ]
        }
      ]
    },
    {
      "cell_type": "code",
      "source": [
        "for i in range(4):\n",
        "    for j in range(i+1):\n",
        "        print(\"*\", end=\" \")\n",
        "    print()"
      ],
      "metadata": {
        "colab": {
          "base_uri": "https://localhost:8080/"
        },
        "id": "ENh-HpK9kmii",
        "outputId": "41c5193e-ca37-412c-cdb5-b97bf3a2905d"
      },
      "execution_count": null,
      "outputs": [
        {
          "output_type": "stream",
          "name": "stdout",
          "text": [
            "* \n",
            "* * \n",
            "* * * \n",
            "* * * * \n"
          ]
        }
      ]
    },
    {
      "cell_type": "code",
      "source": [],
      "metadata": {
        "id": "K0PKvvrIkpz5"
      },
      "execution_count": null,
      "outputs": []
    },
    {
      "cell_type": "markdown",
      "source": [
        "Generate a multiplication table in nested loop."
      ],
      "metadata": {
        "id": "5oaYegWZkvCr"
      }
    },
    {
      "cell_type": "code",
      "source": [
        "start_range = 1\n",
        "end_range = 10\n",
        "for i in range(start_range, end_range+1):\n",
        "  for j in range(start_range, end_range+1):\n",
        "      result = i*j\n",
        "      print(f\"{i}*{j} = {result}\")\n",
        "  print()"
      ],
      "metadata": {
        "colab": {
          "base_uri": "https://localhost:8080/"
        },
        "id": "WeYdyZstkyd6",
        "outputId": "1c8b2284-b3cb-4357-b2a4-68e4eca4c33a"
      },
      "execution_count": 23,
      "outputs": [
        {
          "output_type": "stream",
          "name": "stdout",
          "text": [
            "1*1 = 1\n",
            "1*2 = 2\n",
            "1*3 = 3\n",
            "1*4 = 4\n",
            "1*5 = 5\n",
            "1*6 = 6\n",
            "1*7 = 7\n",
            "1*8 = 8\n",
            "1*9 = 9\n",
            "1*10 = 10\n",
            "\n",
            "2*1 = 2\n",
            "2*2 = 4\n",
            "2*3 = 6\n",
            "2*4 = 8\n",
            "2*5 = 10\n",
            "2*6 = 12\n",
            "2*7 = 14\n",
            "2*8 = 16\n",
            "2*9 = 18\n",
            "2*10 = 20\n",
            "\n",
            "3*1 = 3\n",
            "3*2 = 6\n",
            "3*3 = 9\n",
            "3*4 = 12\n",
            "3*5 = 15\n",
            "3*6 = 18\n",
            "3*7 = 21\n",
            "3*8 = 24\n",
            "3*9 = 27\n",
            "3*10 = 30\n",
            "\n",
            "4*1 = 4\n",
            "4*2 = 8\n",
            "4*3 = 12\n",
            "4*4 = 16\n",
            "4*5 = 20\n",
            "4*6 = 24\n",
            "4*7 = 28\n",
            "4*8 = 32\n",
            "4*9 = 36\n",
            "4*10 = 40\n",
            "\n",
            "5*1 = 5\n",
            "5*2 = 10\n",
            "5*3 = 15\n",
            "5*4 = 20\n",
            "5*5 = 25\n",
            "5*6 = 30\n",
            "5*7 = 35\n",
            "5*8 = 40\n",
            "5*9 = 45\n",
            "5*10 = 50\n",
            "\n",
            "6*1 = 6\n",
            "6*2 = 12\n",
            "6*3 = 18\n",
            "6*4 = 24\n",
            "6*5 = 30\n",
            "6*6 = 36\n",
            "6*7 = 42\n",
            "6*8 = 48\n",
            "6*9 = 54\n",
            "6*10 = 60\n",
            "\n",
            "7*1 = 7\n",
            "7*2 = 14\n",
            "7*3 = 21\n",
            "7*4 = 28\n",
            "7*5 = 35\n",
            "7*6 = 42\n",
            "7*7 = 49\n",
            "7*8 = 56\n",
            "7*9 = 63\n",
            "7*10 = 70\n",
            "\n",
            "8*1 = 8\n",
            "8*2 = 16\n",
            "8*3 = 24\n",
            "8*4 = 32\n",
            "8*5 = 40\n",
            "8*6 = 48\n",
            "8*7 = 56\n",
            "8*8 = 64\n",
            "8*9 = 72\n",
            "8*10 = 80\n",
            "\n",
            "9*1 = 9\n",
            "9*2 = 18\n",
            "9*3 = 27\n",
            "9*4 = 36\n",
            "9*5 = 45\n",
            "9*6 = 54\n",
            "9*7 = 63\n",
            "9*8 = 72\n",
            "9*9 = 81\n",
            "9*10 = 90\n",
            "\n",
            "10*1 = 10\n",
            "10*2 = 20\n",
            "10*3 = 30\n",
            "10*4 = 40\n",
            "10*5 = 50\n",
            "10*6 = 60\n",
            "10*7 = 70\n",
            "10*8 = 80\n",
            "10*9 = 90\n",
            "10*10 = 100\n",
            "\n"
          ]
        }
      ]
    },
    {
      "cell_type": "code",
      "source": [],
      "metadata": {
        "id": "LYwMKg2dk1vm"
      },
      "execution_count": null,
      "outputs": []
    }
  ]
}