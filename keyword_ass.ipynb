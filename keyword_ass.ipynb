{
  "nbformat": 4,
  "nbformat_minor": 0,
  "metadata": {
    "colab": {
      "provenance": [],
      "authorship_tag": "ABX9TyNkT/v/+0GTYvYJwtphQVsZ",
      "include_colab_link": true
    },
    "kernelspec": {
      "name": "python3",
      "display_name": "Python 3"
    },
    "language_info": {
      "name": "python"
    }
  },
  "cells": [
    {
      "cell_type": "markdown",
      "metadata": {
        "id": "view-in-github",
        "colab_type": "text"
      },
      "source": [
        "<a href=\"https://colab.research.google.com/github/dk127119/notebook/blob/main/keyword_ass.ipynb\" target=\"_parent\"><img src=\"https://colab.research.google.com/assets/colab-badge.svg\" alt=\"Open In Colab\"/></a>"
      ]
    },
    {
      "cell_type": "markdown",
      "source": [
        "question1, Explain the significance of Python keywords and provide examples of five keywords."
      ],
      "metadata": {
        "id": "bJYztA7UgfAg"
      }
    },
    {
      "cell_type": "code",
      "execution_count": 1,
      "metadata": {
        "colab": {
          "base_uri": "https://localhost:8080/"
        },
        "id": "XRYWrEQTgd-5",
        "outputId": "e6f8b627-f308-463b-bc85-8bf0fc68846c"
      },
      "outputs": [
        {
          "output_type": "stream",
          "name": "stdout",
          "text": [
            "x is positive\n"
          ]
        }
      ],
      "source": [
        "x = 10\n",
        "if x>0:\n",
        "    print(\"x is positive\")\n",
        "elif x<0:\n",
        "    print(\"x is negative\")\n",
        "else:\n",
        "    print(\"x is zero\")"
      ]
    },
    {
      "cell_type": "code",
      "source": [
        "for i in range(5):\n",
        "    print(i)"
      ],
      "metadata": {
        "colab": {
          "base_uri": "https://localhost:8080/"
        },
        "id": "LlgzsFb3hCvk",
        "outputId": "a6be24ba-9b31-4435-88d9-6127d6925533"
      },
      "execution_count": 2,
      "outputs": [
        {
          "output_type": "stream",
          "name": "stdout",
          "text": [
            "0\n",
            "1\n",
            "2\n",
            "3\n",
            "4\n"
          ]
        }
      ]
    },
    {
      "cell_type": "code",
      "source": [
        "i=0\n",
        "while i<5:\n",
        "    print(i)\n",
        "    i +=1"
      ],
      "metadata": {
        "colab": {
          "base_uri": "https://localhost:8080/"
        },
        "id": "NyTLQAGdhFR_",
        "outputId": "eda0cc69-57f0-478e-ef23-18990422b5b2"
      },
      "execution_count": 3,
      "outputs": [
        {
          "output_type": "stream",
          "name": "stdout",
          "text": [
            "0\n",
            "1\n",
            "2\n",
            "3\n",
            "4\n"
          ]
        }
      ]
    },
    {
      "cell_type": "markdown",
      "source": [
        "question 2, Describe the rules for defining identifiers in Python and provide an example"
      ],
      "metadata": {
        "id": "Cf3fJ5BahMVn"
      }
    },
    {
      "cell_type": "markdown",
      "source": [
        "rules for identifiers\n",
        "(1)valid character - identifier can contain letter in both upper and lowercase, digits(0-9), and underscores(_).\n",
        "(2)case sensitivity - python is case sensitive, meaning 'name', 'Name' and 'NAME'all are considered in different identifier.\n",
        "(3)reserved keyword - identifier cannot be the same as python keywords.\n",
        "(4)no special character - identifier cannot contain any special character like !,@,#m,$,% etc.\n",
        "(5)length - theres are no limit on the length of identifiers.\n",
        "(6)can't start with a digits"
      ],
      "metadata": {
        "id": "IUJe9Df1hURD"
      }
    },
    {
      "cell_type": "code",
      "source": [
        "my_variable = 3\n",
        "Myvariable = 3.34\n",
        "_my_variable = \"hi\"\n",
        "variable_123 = True"
      ],
      "metadata": {
        "id": "UA8p8dOqhHwW"
      },
      "execution_count": 4,
      "outputs": []
    },
    {
      "cell_type": "markdown",
      "source": [
        "questions 3, What are comments in Python, and why are they useful6 Provide an example"
      ],
      "metadata": {
        "id": "0SD09QyKhkOo"
      }
    },
    {
      "cell_type": "code",
      "source": [
        "print(\"hello world\") #this is also a comment\n",
        "#the following code calculate sum of two numbers\n",
        "num1 = 2\n",
        "num2 = 4\n",
        "result  = num1+num2\n",
        "print(\"sum :\", result)"
      ],
      "metadata": {
        "colab": {
          "base_uri": "https://localhost:8080/"
        },
        "id": "XbSY9fb9hgFn",
        "outputId": "63eeb649-25ee-4886-b8f9-33fca83c7926"
      },
      "execution_count": 5,
      "outputs": [
        {
          "output_type": "stream",
          "name": "stdout",
          "text": [
            "hello world\n",
            "sum : 6\n"
          ]
        }
      ]
    },
    {
      "cell_type": "markdown",
      "source": [
        "question 4, Why is proper indentation important in Python."
      ],
      "metadata": {
        "id": "1ECNTH70hrDH"
      }
    },
    {
      "cell_type": "code",
      "source": [
        "#incorrect indentation\n",
        "for i in range(5):\n",
        "print(\"inside loop\") #indentationerror\n",
        "#correctindentation\n",
        "for i in range(5):\n",
        "    print(\"inside loop\") #noerror\n",
        "\n",
        "#indentation is important for readability, syntax requiremnet,consistency, debugging,documentation."
      ],
      "metadata": {
        "colab": {
          "base_uri": "https://localhost:8080/",
          "height": 106
        },
        "id": "pAzqk9AyhoXL",
        "outputId": "bee6086a-e76e-4bf6-d9b6-e15587803c55"
      },
      "execution_count": 6,
      "outputs": [
        {
          "output_type": "error",
          "ename": "IndentationError",
          "evalue": "expected an indented block after 'for' statement on line 2 (<ipython-input-6-506a652d0af3>, line 3)",
          "traceback": [
            "\u001b[0;36m  File \u001b[0;32m\"<ipython-input-6-506a652d0af3>\"\u001b[0;36m, line \u001b[0;32m3\u001b[0m\n\u001b[0;31m    print(\"inside loop\") #indentationerror\u001b[0m\n\u001b[0m    ^\u001b[0m\n\u001b[0;31mIndentationError\u001b[0m\u001b[0;31m:\u001b[0m expected an indented block after 'for' statement on line 2\n"
          ]
        }
      ]
    },
    {
      "cell_type": "markdown",
      "source": [
        "question 5, What happens if indentation is incorrect in Python."
      ],
      "metadata": {
        "id": "gVLZtvCfh8Mx"
      }
    },
    {
      "cell_type": "code",
      "source": [
        "for i in range(4):\n",
        "  print(\"inside loop\")\n",
        "\n",
        "\n",
        "#if indentation is incorrect then sowing 'indentationerror'"
      ],
      "metadata": {
        "colab": {
          "base_uri": "https://localhost:8080/"
        },
        "id": "OLn5RTvZhw9J",
        "outputId": "28db17d4-fcb8-4005-dab4-23695fb748fb"
      },
      "execution_count": 7,
      "outputs": [
        {
          "output_type": "stream",
          "name": "stdout",
          "text": [
            "inside loop\n",
            "inside loop\n",
            "inside loop\n",
            "inside loop\n"
          ]
        }
      ]
    },
    {
      "cell_type": "markdown",
      "source": [
        "question 6, Differentiate between expression and statement in Python with examples"
      ],
      "metadata": {
        "id": "0OoeXl31iKTB"
      }
    },
    {
      "cell_type": "code",
      "source": [
        "#expression is a piece of code tat produces value.\n",
        "x = 4                   #assignment expression\n",
        "y = x+2                 #aritmetic expression\n",
        "z = (x*y) / (x-2)       #complexaritmetic expression\n",
        "length = len(\"hello\")   #function call expression"
      ],
      "metadata": {
        "id": "slXm4ZIxiD9b"
      },
      "execution_count": 8,
      "outputs": []
    },
    {
      "cell_type": "code",
      "source": [
        "#statement is a complete instruction tat perform some action.\n",
        "x =5\n",
        "if x>0:\n",
        "    print(\"positive\")\n",
        "else:\n",
        "    print(\"non-positive\")\n",
        "for i in range(5):\n",
        "    print(i)"
      ],
      "metadata": {
        "colab": {
          "base_uri": "https://localhost:8080/"
        },
        "id": "ADJD28FfiTBk",
        "outputId": "b077a39e-4c09-46a2-93da-735141e13cd6"
      },
      "execution_count": 9,
      "outputs": [
        {
          "output_type": "stream",
          "name": "stdout",
          "text": [
            "positive\n",
            "0\n",
            "1\n",
            "2\n",
            "3\n",
            "4\n"
          ]
        }
      ]
    },
    {
      "cell_type": "code",
      "source": [],
      "metadata": {
        "id": "r_mzE1QxiVr-"
      },
      "execution_count": null,
      "outputs": []
    }
  ]
}